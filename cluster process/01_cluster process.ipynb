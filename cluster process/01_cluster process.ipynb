{
 "cells": [
  {
   "cell_type": "markdown",
   "id": "a0b00e23",
   "metadata": {},
   "source": [
    "# Updated proto-clustering process"
   ]
  },
  {
   "cell_type": "code",
   "execution_count": 1,
   "id": "86c61e6e",
   "metadata": {},
   "outputs": [
    {
     "data": {
      "application/javascript": [
       "IPython.notebook.set_autosave_interval(180000)"
      ]
     },
     "metadata": {},
     "output_type": "display_data"
    },
    {
     "name": "stdout",
     "output_type": "stream",
     "text": [
      "Autosaving every 180 seconds\n"
     ]
    }
   ],
   "source": [
    "%autosave 180"
   ]
  },
  {
   "cell_type": "code",
   "execution_count": 2,
   "id": "1a615b18",
   "metadata": {},
   "outputs": [],
   "source": [
    "#Load packages\n",
    "import os\n",
    "import random\n",
    "import pandas as pd\n",
    "import numpy as np\n",
    "import matplotlib.pyplot as plt\n",
    "from kmodes.kprototypes import KPrototypes"
   ]
  },
  {
   "cell_type": "code",
   "execution_count": 4,
   "id": "5dfd17cd",
   "metadata": {},
   "outputs": [
    {
     "data": {
      "text/plain": [
       "'/Users/tjark/Documents/Python/clustering.nosync/cluster process'"
      ]
     },
     "execution_count": 4,
     "metadata": {},
     "output_type": "execute_result"
    }
   ],
   "source": [
    "pwd"
   ]
  },
  {
   "cell_type": "code",
   "execution_count": 5,
   "id": "877001b7",
   "metadata": {},
   "outputs": [],
   "source": [
    "os.chdir(\"..\")"
   ]
  },
  {
   "cell_type": "code",
   "execution_count": 5,
   "id": "0c261ae2",
   "metadata": {},
   "outputs": [],
   "source": [
    "# Downloaded data for area A - Ile de France\n",
    "# https://www.insee.fr/fr/statistiques/6544333?sommaire=6456104"
   ]
  },
  {
   "cell_type": "code",
   "execution_count": 6,
   "id": "14f9156b",
   "metadata": {
    "scrolled": true
   },
   "outputs": [
    {
     "name": "stderr",
     "output_type": "stream",
     "text": [
      "/var/folders/93/smcvnv_s04v84f_dnqvd4xkw0000gn/T/ipykernel_44016/2176412577.py:1: DtypeWarning: Columns (0,1,2,3,9,10,11,12,16,19,22,29,35,36,42,43,47,48,49,50,57,63,68,71,74,75,80,81,83,84,85,86) have mixed types. Specify dtype option on import or set low_memory=False.\n",
      "  census = pd.read_csv('data/raw/FD_INDCVIZA_2019.csv', sep = ';')\n"
     ]
    }
   ],
   "source": [
    "census = pd.read_csv('data/raw/FD_INDCVIZA_2019.csv', sep = ';') "
   ]
  },
  {
   "cell_type": "code",
   "execution_count": 7,
   "id": "110beef0",
   "metadata": {
    "scrolled": true
   },
   "outputs": [
    {
     "data": {
      "text/html": [
       "<div>\n",
       "<style scoped>\n",
       "    .dataframe tbody tr th:only-of-type {\n",
       "        vertical-align: middle;\n",
       "    }\n",
       "\n",
       "    .dataframe tbody tr th {\n",
       "        vertical-align: top;\n",
       "    }\n",
       "\n",
       "    .dataframe thead th {\n",
       "        text-align: right;\n",
       "    }\n",
       "</style>\n",
       "<table border=\"1\" class=\"dataframe\">\n",
       "  <thead>\n",
       "    <tr style=\"text-align: right;\">\n",
       "      <th></th>\n",
       "      <th>CANTVILLE</th>\n",
       "      <th>NUMMI</th>\n",
       "      <th>ACHLR</th>\n",
       "      <th>AEMMR</th>\n",
       "      <th>AGED</th>\n",
       "      <th>AGER20</th>\n",
       "      <th>AGEREV</th>\n",
       "      <th>AGEREVQ</th>\n",
       "      <th>ANAI</th>\n",
       "      <th>ANEMR</th>\n",
       "      <th>...</th>\n",
       "      <th>TP</th>\n",
       "      <th>TRANS</th>\n",
       "      <th>TRIRIS</th>\n",
       "      <th>TYPC</th>\n",
       "      <th>TYPFC</th>\n",
       "      <th>TYPL</th>\n",
       "      <th>TYPMC</th>\n",
       "      <th>TYPMR</th>\n",
       "      <th>VOIT</th>\n",
       "      <th>WC</th>\n",
       "    </tr>\n",
       "  </thead>\n",
       "  <tbody>\n",
       "    <tr>\n",
       "      <th>0</th>\n",
       "      <td>75ZZ</td>\n",
       "      <td>1</td>\n",
       "      <td>1</td>\n",
       "      <td>9</td>\n",
       "      <td>72</td>\n",
       "      <td>79</td>\n",
       "      <td>72</td>\n",
       "      <td>70</td>\n",
       "      <td>1944</td>\n",
       "      <td>2</td>\n",
       "      <td>...</td>\n",
       "      <td>Z</td>\n",
       "      <td>Z</td>\n",
       "      <td>751501</td>\n",
       "      <td>3</td>\n",
       "      <td>Z</td>\n",
       "      <td>1</td>\n",
       "      <td>1</td>\n",
       "      <td>12</td>\n",
       "      <td>1</td>\n",
       "      <td>Z</td>\n",
       "    </tr>\n",
       "    <tr>\n",
       "      <th>1</th>\n",
       "      <td>75ZZ</td>\n",
       "      <td>2</td>\n",
       "      <td>2</td>\n",
       "      <td>9</td>\n",
       "      <td>59</td>\n",
       "      <td>64</td>\n",
       "      <td>58</td>\n",
       "      <td>55</td>\n",
       "      <td>1958</td>\n",
       "      <td>3</td>\n",
       "      <td>...</td>\n",
       "      <td>1</td>\n",
       "      <td>5</td>\n",
       "      <td>750901</td>\n",
       "      <td>3</td>\n",
       "      <td>2</td>\n",
       "      <td>6</td>\n",
       "      <td>4</td>\n",
       "      <td>41</td>\n",
       "      <td>0</td>\n",
       "      <td>Z</td>\n",
       "    </tr>\n",
       "    <tr>\n",
       "      <th>2</th>\n",
       "      <td>75ZZ</td>\n",
       "      <td>2</td>\n",
       "      <td>2</td>\n",
       "      <td>9</td>\n",
       "      <td>30</td>\n",
       "      <td>29</td>\n",
       "      <td>29</td>\n",
       "      <td>25</td>\n",
       "      <td>1987</td>\n",
       "      <td>3</td>\n",
       "      <td>...</td>\n",
       "      <td>1</td>\n",
       "      <td>6</td>\n",
       "      <td>750901</td>\n",
       "      <td>3</td>\n",
       "      <td>2</td>\n",
       "      <td>6</td>\n",
       "      <td>4</td>\n",
       "      <td>41</td>\n",
       "      <td>0</td>\n",
       "      <td>Z</td>\n",
       "    </tr>\n",
       "    <tr>\n",
       "      <th>3</th>\n",
       "      <td>75ZZ</td>\n",
       "      <td>3</td>\n",
       "      <td>1</td>\n",
       "      <td>7</td>\n",
       "      <td>82</td>\n",
       "      <td>80</td>\n",
       "      <td>81</td>\n",
       "      <td>80</td>\n",
       "      <td>1938</td>\n",
       "      <td>5</td>\n",
       "      <td>...</td>\n",
       "      <td>Z</td>\n",
       "      <td>Z</td>\n",
       "      <td>751431</td>\n",
       "      <td>3</td>\n",
       "      <td>2</td>\n",
       "      <td>2</td>\n",
       "      <td>4</td>\n",
       "      <td>44</td>\n",
       "      <td>1</td>\n",
       "      <td>Z</td>\n",
       "    </tr>\n",
       "    <tr>\n",
       "      <th>4</th>\n",
       "      <td>75ZZ</td>\n",
       "      <td>3</td>\n",
       "      <td>1</td>\n",
       "      <td>7</td>\n",
       "      <td>86</td>\n",
       "      <td>80</td>\n",
       "      <td>85</td>\n",
       "      <td>85</td>\n",
       "      <td>1934</td>\n",
       "      <td>5</td>\n",
       "      <td>...</td>\n",
       "      <td>Z</td>\n",
       "      <td>Z</td>\n",
       "      <td>751431</td>\n",
       "      <td>3</td>\n",
       "      <td>2</td>\n",
       "      <td>2</td>\n",
       "      <td>4</td>\n",
       "      <td>44</td>\n",
       "      <td>1</td>\n",
       "      <td>Z</td>\n",
       "    </tr>\n",
       "  </tbody>\n",
       "</table>\n",
       "<p>5 rows × 88 columns</p>\n",
       "</div>"
      ],
      "text/plain": [
       "  CANTVILLE NUMMI ACHLR AEMMR  AGED  AGER20  AGEREV  AGEREVQ  ANAI ANEMR  ...  \\\n",
       "0      75ZZ     1     1     9    72      79      72       70  1944     2  ...   \n",
       "1      75ZZ     2     2     9    59      64      58       55  1958     3  ...   \n",
       "2      75ZZ     2     2     9    30      29      29       25  1987     3  ...   \n",
       "3      75ZZ     3     1     7    82      80      81       80  1938     5  ...   \n",
       "4      75ZZ     3     1     7    86      80      85       85  1934     5  ...   \n",
       "\n",
       "  TP TRANS  TRIRIS TYPC TYPFC TYPL TYPMC  TYPMR VOIT WC  \n",
       "0  Z     Z  751501    3     Z    1     1     12    1  Z  \n",
       "1  1     5  750901    3     2    6     4     41    0  Z  \n",
       "2  1     6  750901    3     2    6     4     41    0  Z  \n",
       "3  Z     Z  751431    3     2    2     4     44    1  Z  \n",
       "4  Z     Z  751431    3     2    2     4     44    1  Z  \n",
       "\n",
       "[5 rows x 88 columns]"
      ]
     },
     "execution_count": 7,
     "metadata": {},
     "output_type": "execute_result"
    }
   ],
   "source": [
    "census.head()"
   ]
  },
  {
   "cell_type": "code",
   "execution_count": 8,
   "id": "a3b3461d",
   "metadata": {},
   "outputs": [],
   "source": [
    "#drop columns that aren't used\n",
    "census = census.drop(labels=['ACHLR','AEMMR','AGER20','AGEREV','AGEREVQ','ANAI','ANEMR',\n",
    "            'APAF','ARM','ASCEN','BAIN','BATI','CANTVILLE','CATIRIS','CATL','CATPC','CHAU',\n",
    "            'CHFL','CHOS','CLIM','CMBL','CUIS','DEPT','DEROU','DNAI','EAU','EGOUL','ELEC','EMPL',\n",
    "            'HLML','INATC','INFAM','INPER','INPERF','IRAN','LIENF','LPRF','LPRM','METRODOM','NA5','NAIDT',\n",
    "            'NE24FR','NE3FR','NENFR','NUMF','NUMMI','ORIDT','RECH',\n",
    "            'REGION','SANI','SANIDOM','SFM','TACTD16','TRIRIS','TYPC',\n",
    "            'TYPFC','TYPMC','TYPMR','WC'], axis=1)"
   ]
  },
  {
   "cell_type": "code",
   "execution_count": 9,
   "id": "0851f2eb",
   "metadata": {},
   "outputs": [
    {
     "data": {
      "text/plain": [
       "['AGED',\n",
       " 'COUPLE',\n",
       " 'CS1',\n",
       " 'DIPL',\n",
       " 'ETUD',\n",
       " 'GARL',\n",
       " 'ILETUD',\n",
       " 'ILT',\n",
       " 'IMMI',\n",
       " 'INAI',\n",
       " 'IPONDI',\n",
       " 'IRIS',\n",
       " 'MOCO',\n",
       " 'MODV',\n",
       " 'NA17',\n",
       " 'NBPI',\n",
       " 'NE17FR',\n",
       " 'NE5FR',\n",
       " 'NPERR',\n",
       " 'SEXE',\n",
       " 'STAT_CONJ',\n",
       " 'STATR',\n",
       " 'STOCD',\n",
       " 'SURF',\n",
       " 'TACT',\n",
       " 'TP',\n",
       " 'TRANS',\n",
       " 'TYPL',\n",
       " 'VOIT']"
      ]
     },
     "execution_count": 9,
     "metadata": {},
     "output_type": "execute_result"
    }
   ],
   "source": [
    "list(census.columns.values.tolist())"
   ]
  },
  {
   "cell_type": "code",
   "execution_count": 10,
   "id": "cab2382f",
   "metadata": {},
   "outputs": [],
   "source": [
    "census4cluster = census.drop(labels=['AGED','IRIS','NE17FR'], axis=1)"
   ]
  },
  {
   "cell_type": "markdown",
   "id": "5d3b7658",
   "metadata": {},
   "source": [
    "## Convert weights 'IPONDI' to integrer multiplicators via stochastic rounding "
   ]
  },
  {
   "cell_type": "code",
   "execution_count": 11,
   "id": "80c5fee0",
   "metadata": {},
   "outputs": [],
   "source": [
    "census4cluster['intweight'] = census4cluster['IPONDI'].astype(int)"
   ]
  },
  {
   "cell_type": "code",
   "execution_count": 12,
   "id": "9ca34e0b",
   "metadata": {},
   "outputs": [],
   "source": [
    "census4cluster['fractweight'] = census4cluster['IPONDI'] - census4cluster['intweight']"
   ]
  },
  {
   "cell_type": "code",
   "execution_count": 13,
   "id": "cda83b82",
   "metadata": {},
   "outputs": [],
   "source": [
    "u = random.random()\n",
    "census4cluster['multiplicator'] = census4cluster['intweight'] + (u < census4cluster['fractweight'])"
   ]
  },
  {
   "cell_type": "code",
   "execution_count": 14,
   "id": "4d68fafb",
   "metadata": {},
   "outputs": [],
   "source": [
    "# delete columns no longer needed\n",
    "census4cluster = census4cluster.drop(labels=['intweight','fractweight','IPONDI'], axis=1)"
   ]
  },
  {
   "cell_type": "markdown",
   "id": "34ed166c",
   "metadata": {},
   "source": [
    "# Clustering process"
   ]
  },
  {
   "cell_type": "markdown",
   "id": "adefdf9e",
   "metadata": {},
   "source": [
    "## Normalisation of numeric variables NBPI, NE5FR, NPERR, VOIT"
   ]
  },
  {
   "cell_type": "code",
   "execution_count": 15,
   "id": "ad8663cc",
   "metadata": {},
   "outputs": [],
   "source": [
    "# Convert non numeric values to NA\n",
    "census4cluster['NBPI'] = pd.to_numeric(census4cluster['NBPI'], errors='coerce')\n",
    "census4cluster['NE5FR'] = pd.to_numeric(census4cluster['NE5FR'], errors='coerce')\n",
    "census4cluster['NPERR'] = pd.to_numeric(census4cluster['NPERR'], errors='coerce')\n",
    "census4cluster['VOIT'] = pd.to_numeric(census4cluster['VOIT'], errors='coerce')"
   ]
  },
  {
   "cell_type": "code",
   "execution_count": 16,
   "id": "e9a6326a",
   "metadata": {},
   "outputs": [],
   "source": [
    "# Calculate normalised values\n",
    "census4cluster['NBPI'] = (census4cluster['NBPI'] - census4cluster['NBPI'].min()) / (census4cluster['NBPI'].max() - census4cluster['NBPI'].min())\n",
    "census4cluster['NE5FR'] = (census4cluster['NE5FR'] - census4cluster['NE5FR'].min()) / (census4cluster['NE5FR'].max() - census4cluster['NE5FR'].min())\n",
    "census4cluster['NPERR'] = (census4cluster['NPERR'] - census4cluster['NPERR'].min()) / (census4cluster['NPERR'].max() - census4cluster['NPERR'].min())\n",
    "census4cluster['VOIT'] = (census4cluster['VOIT'] - census4cluster['VOIT'].min()) / (census4cluster['VOIT'].max() - census4cluster['VOIT'].min())"
   ]
  },
  {
   "cell_type": "code",
   "execution_count": 17,
   "id": "62deabce",
   "metadata": {},
   "outputs": [],
   "source": [
    "# Replace NA with mean values\n",
    "census4cluster['NBPI'].fillna(census4cluster['NBPI'].mean(), inplace=True)\n",
    "census4cluster['NE5FR'].fillna(census4cluster['NE5FR'].mean(), inplace=True)\n",
    "census4cluster['NPERR'].fillna(census4cluster['NPERR'].mean(), inplace=True)\n",
    "census4cluster['VOIT'].fillna(census4cluster['VOIT'].mean(), inplace=True)"
   ]
  },
  {
   "cell_type": "markdown",
   "id": "15050458",
   "metadata": {},
   "source": [
    "## Prepare data"
   ]
  },
  {
   "cell_type": "code",
   "execution_count": 18,
   "id": "71bb1a6e",
   "metadata": {},
   "outputs": [],
   "source": [
    "# Encoding ordinal variable SURF\n",
    "census4cluster['SURF'] = census4cluster['SURF'].astype(str)\n",
    "categories = sorted(census4cluster['SURF'].unique())\n",
    "census4cluster['SURF'] = pd.Categorical(census4cluster['SURF'], categories=categories, ordered=True)"
   ]
  },
  {
   "cell_type": "code",
   "execution_count": 19,
   "id": "da741a21",
   "metadata": {},
   "outputs": [
    {
     "data": {
      "text/html": [
       "<div>\n",
       "<style scoped>\n",
       "    .dataframe tbody tr th:only-of-type {\n",
       "        vertical-align: middle;\n",
       "    }\n",
       "\n",
       "    .dataframe tbody tr th {\n",
       "        vertical-align: top;\n",
       "    }\n",
       "\n",
       "    .dataframe thead th {\n",
       "        text-align: right;\n",
       "    }\n",
       "</style>\n",
       "<table border=\"1\" class=\"dataframe\">\n",
       "  <thead>\n",
       "    <tr style=\"text-align: right;\">\n",
       "      <th></th>\n",
       "      <th>COUPLE</th>\n",
       "      <th>CS1</th>\n",
       "      <th>DIPL</th>\n",
       "      <th>ETUD</th>\n",
       "      <th>GARL</th>\n",
       "      <th>ILETUD</th>\n",
       "      <th>ILT</th>\n",
       "      <th>IMMI</th>\n",
       "      <th>INAI</th>\n",
       "      <th>MOCO</th>\n",
       "      <th>...</th>\n",
       "      <th>STAT_CONJ</th>\n",
       "      <th>STATR</th>\n",
       "      <th>STOCD</th>\n",
       "      <th>SURF</th>\n",
       "      <th>TACT</th>\n",
       "      <th>TP</th>\n",
       "      <th>TRANS</th>\n",
       "      <th>TYPL</th>\n",
       "      <th>VOIT</th>\n",
       "      <th>multiplicator</th>\n",
       "    </tr>\n",
       "  </thead>\n",
       "  <tbody>\n",
       "    <tr>\n",
       "      <th>0</th>\n",
       "      <td>2</td>\n",
       "      <td>7</td>\n",
       "      <td>19</td>\n",
       "      <td>2</td>\n",
       "      <td>1</td>\n",
       "      <td>Z</td>\n",
       "      <td>Z</td>\n",
       "      <td>2</td>\n",
       "      <td>3</td>\n",
       "      <td>32</td>\n",
       "      <td>...</td>\n",
       "      <td>6</td>\n",
       "      <td>Z</td>\n",
       "      <td>10</td>\n",
       "      <td>4</td>\n",
       "      <td>21</td>\n",
       "      <td>Z</td>\n",
       "      <td>Z</td>\n",
       "      <td>1</td>\n",
       "      <td>0.333333</td>\n",
       "      <td>3</td>\n",
       "    </tr>\n",
       "    <tr>\n",
       "      <th>1</th>\n",
       "      <td>1</td>\n",
       "      <td>3</td>\n",
       "      <td>17</td>\n",
       "      <td>2</td>\n",
       "      <td>2</td>\n",
       "      <td>Z</td>\n",
       "      <td>1</td>\n",
       "      <td>1</td>\n",
       "      <td>6</td>\n",
       "      <td>21</td>\n",
       "      <td>...</td>\n",
       "      <td>3</td>\n",
       "      <td>2</td>\n",
       "      <td>21</td>\n",
       "      <td>1</td>\n",
       "      <td>11</td>\n",
       "      <td>1</td>\n",
       "      <td>5</td>\n",
       "      <td>6</td>\n",
       "      <td>0.000000</td>\n",
       "      <td>3</td>\n",
       "    </tr>\n",
       "    <tr>\n",
       "      <th>2</th>\n",
       "      <td>1</td>\n",
       "      <td>3</td>\n",
       "      <td>16</td>\n",
       "      <td>2</td>\n",
       "      <td>2</td>\n",
       "      <td>Z</td>\n",
       "      <td>3</td>\n",
       "      <td>1</td>\n",
       "      <td>6</td>\n",
       "      <td>21</td>\n",
       "      <td>...</td>\n",
       "      <td>3</td>\n",
       "      <td>2</td>\n",
       "      <td>21</td>\n",
       "      <td>1</td>\n",
       "      <td>11</td>\n",
       "      <td>1</td>\n",
       "      <td>6</td>\n",
       "      <td>6</td>\n",
       "      <td>0.000000</td>\n",
       "      <td>3</td>\n",
       "    </tr>\n",
       "    <tr>\n",
       "      <th>3</th>\n",
       "      <td>1</td>\n",
       "      <td>7</td>\n",
       "      <td>14</td>\n",
       "      <td>2</td>\n",
       "      <td>1</td>\n",
       "      <td>Z</td>\n",
       "      <td>Z</td>\n",
       "      <td>2</td>\n",
       "      <td>2</td>\n",
       "      <td>21</td>\n",
       "      <td>...</td>\n",
       "      <td>1</td>\n",
       "      <td>Z</td>\n",
       "      <td>10</td>\n",
       "      <td>4</td>\n",
       "      <td>21</td>\n",
       "      <td>Z</td>\n",
       "      <td>Z</td>\n",
       "      <td>2</td>\n",
       "      <td>0.333333</td>\n",
       "      <td>3</td>\n",
       "    </tr>\n",
       "    <tr>\n",
       "      <th>4</th>\n",
       "      <td>1</td>\n",
       "      <td>7</td>\n",
       "      <td>14</td>\n",
       "      <td>2</td>\n",
       "      <td>1</td>\n",
       "      <td>Z</td>\n",
       "      <td>Z</td>\n",
       "      <td>2</td>\n",
       "      <td>1</td>\n",
       "      <td>21</td>\n",
       "      <td>...</td>\n",
       "      <td>1</td>\n",
       "      <td>Z</td>\n",
       "      <td>10</td>\n",
       "      <td>4</td>\n",
       "      <td>21</td>\n",
       "      <td>Z</td>\n",
       "      <td>Z</td>\n",
       "      <td>2</td>\n",
       "      <td>0.333333</td>\n",
       "      <td>3</td>\n",
       "    </tr>\n",
       "  </tbody>\n",
       "</table>\n",
       "<p>5 rows × 26 columns</p>\n",
       "</div>"
      ],
      "text/plain": [
       "   COUPLE  CS1 DIPL  ETUD GARL ILETUD ILT  IMMI  INAI  MOCO  ...  STAT_CONJ  \\\n",
       "0       2    7   19     2    1      Z   Z     2     3    32  ...          6   \n",
       "1       1    3   17     2    2      Z   1     1     6    21  ...          3   \n",
       "2       1    3   16     2    2      Z   3     1     6    21  ...          3   \n",
       "3       1    7   14     2    1      Z   Z     2     2    21  ...          1   \n",
       "4       1    7   14     2    1      Z   Z     2     1    21  ...          1   \n",
       "\n",
       "  STATR  STOCD  SURF  TACT  TP  TRANS TYPL      VOIT multiplicator  \n",
       "0     Z     10     4    21   Z      Z    1  0.333333             3  \n",
       "1     2     21     1    11   1      5    6  0.000000             3  \n",
       "2     2     21     1    11   1      6    6  0.000000             3  \n",
       "3     Z     10     4    21   Z      Z    2  0.333333             3  \n",
       "4     Z     10     4    21   Z      Z    2  0.333333             3  \n",
       "\n",
       "[5 rows x 26 columns]"
      ]
     },
     "execution_count": 19,
     "metadata": {},
     "output_type": "execute_result"
    }
   ],
   "source": [
    "census4cluster.head()"
   ]
  },
  {
   "cell_type": "code",
   "execution_count": 20,
   "id": "5e204f4f",
   "metadata": {
    "scrolled": true
   },
   "outputs": [],
   "source": [
    "# Encoding nominal variables\n",
    "NomVariables = ['COUPLE','CS1','DIPL','ETUD','GARL','ILETUD','ILT','IMMI','INAI','MOCO',\n",
    "                'MODV','NA17','SEXE','STAT_CONJ','STATR','STOCD','TACT','TP','TRANS','TYPL']\n",
    "\n",
    "# Iterate through the list using a for loop\n",
    "for NomVar in NomVariables:\n",
    "    census4cluster[NomVar] = census4cluster[NomVar].astype(str)\n",
    "    categories = sorted(census4cluster[NomVar].unique())\n",
    "    census4cluster[NomVar] = pd.Categorical(census4cluster[NomVar], categories=categories, ordered=False)"
   ]
  },
  {
   "cell_type": "markdown",
   "id": "2d740993",
   "metadata": {},
   "source": [
    "## Scale populations by multiplicator"
   ]
  },
  {
   "cell_type": "code",
   "execution_count": 21,
   "id": "72fd9832",
   "metadata": {},
   "outputs": [],
   "source": [
    "census4cluster.insert(0, 'ID', range(0, len(census4cluster)))"
   ]
  },
  {
   "cell_type": "code",
   "execution_count": 22,
   "id": "f09915ea",
   "metadata": {},
   "outputs": [],
   "source": [
    "def scale_rows(df_group):\n",
    "    # calculate the number of times to repeat each row\n",
    "    weight = df_group['multiplicator'].iloc[0]\n",
    "    # repeat each row based on the weight column\n",
    "    df_group = df_group.iloc[np.repeat(np.arange(len(df_group)), weight)]\n",
    "    return df_group"
   ]
  },
  {
   "cell_type": "code",
   "execution_count": 23,
   "id": "8714224a",
   "metadata": {},
   "outputs": [],
   "source": [
    "# #create sample for efficiency\n",
    "# sample_census4cluster = census4cluster.sample(n=1000)"
   ]
  },
  {
   "cell_type": "code",
   "execution_count": 24,
   "id": "8701fc49",
   "metadata": {},
   "outputs": [],
   "source": [
    "# # apply the scaling function to each group of rows with the same ID\n",
    "# census4cluster_scaled = sample_census4cluster.groupby('ID').apply(scale_rows)\n",
    "# # reset the index of the new dataframe\n",
    "# census4cluster_scaled.reset_index(drop=True, inplace=True)\n",
    "# # delete ID and multiplocator columns no longer needed\n",
    "# census4cluster_scaled = census4cluster_scaled.drop(labels=['multiplicator','ID'], axis=1)"
   ]
  },
  {
   "cell_type": "markdown",
   "id": "01c4642f",
   "metadata": {},
   "source": [
    "## Elbow test"
   ]
  },
  {
   "cell_type": "code",
   "execution_count": 25,
   "id": "483cf42a",
   "metadata": {},
   "outputs": [],
   "source": [
    "# census4cluster_scaled.head()"
   ]
  },
  {
   "cell_type": "code",
   "execution_count": 26,
   "id": "c49dd8b6",
   "metadata": {},
   "outputs": [],
   "source": [
    "# # define min and max number of clusters\n",
    "# min_clust = 2\n",
    "# max_clust = 50\n",
    "# k_range = list(range(min_clust,max_clust+1,2))\n",
    "# # empty array for within of Within-cluster sum of squares WCSS\n",
    "# wcss = []\n",
    "\n",
    "# #verbose 0 = no process output, 1 = clusters per entry, 2 = full messages\n",
    "\n",
    "# for k in k_range:\n",
    "#     kproto = KPrototypes(n_clusters=k, init='Cao', verbose=0)\n",
    "#     clusters = kproto.fit_predict(census4cluster_scaled,categorical=[0,1,2,3,4,5,6,7,8,9,10,11,15,16,17,18,19,20,21,22,23])\n",
    "    \n",
    "#     wcss.append(kproto.cost_)"
   ]
  },
  {
   "cell_type": "code",
   "execution_count": 27,
   "id": "b646f577",
   "metadata": {},
   "outputs": [],
   "source": [
    "# # plot the WCSS against k\n",
    "# plt.plot(k_range, wcss)\n",
    "# plt.xlabel('Number of clusters (k)')\n",
    "# plt.ylabel('Within-cluster sum of squares (WCSS)')\n",
    "# plt.title('Elbow plot for KPrototypes clustering')\n",
    "# plt.show()"
   ]
  },
  {
   "cell_type": "code",
   "execution_count": 28,
   "id": "99a38a82",
   "metadata": {},
   "outputs": [],
   "source": [
    "# wcss_file = pd.DataFrame (wcss, columns = ['wcss'])"
   ]
  },
  {
   "cell_type": "code",
   "execution_count": 29,
   "id": "e703f5b7",
   "metadata": {},
   "outputs": [],
   "source": [
    "# wcss_file.to_csv('data/interim/wcss.csv')"
   ]
  },
  {
   "cell_type": "markdown",
   "id": "d05898bd",
   "metadata": {},
   "source": [
    "## Final clustering\n",
    "(~2 days with Mac, 32GB Ram/2.3 GHz Quad-Core Intel Core i7)"
   ]
  },
  {
   "cell_type": "code",
   "execution_count": 30,
   "id": "04f15921",
   "metadata": {},
   "outputs": [],
   "source": [
    "# apply the scaling function to each group of rows with the same ID\n",
    "census4cluster_scaled = census4cluster.groupby('ID').apply(scale_rows)\n",
    "# reset the index of the new dataframe\n",
    "census4cluster_scaled.reset_index(drop=True, inplace=True)\n",
    "# delete ID and multiplocator columns no longer needed\n",
    "census4cluster_scaled = census4cluster_scaled.drop(labels=['multiplicator','ID'], axis=1)"
   ]
  },
  {
   "cell_type": "markdown",
   "id": "a4eb8d09",
   "metadata": {},
   "source": [
    "### Interim safety export "
   ]
  },
  {
   "cell_type": "code",
   "execution_count": 31,
   "id": "b51f2c52",
   "metadata": {},
   "outputs": [],
   "source": [
    "# Write file\n",
    "census4cluster_scaled.to_csv('data/interim/census4cluster_scaled.csv')"
   ]
  },
  {
   "cell_type": "code",
   "execution_count": 36,
   "id": "bbfa2248",
   "metadata": {},
   "outputs": [
    {
     "data": {
      "text/plain": [
       "10719909"
      ]
     },
     "execution_count": 36,
     "metadata": {},
     "output_type": "execute_result"
    }
   ],
   "source": [
    "len(census4cluster_scaled)"
   ]
  },
  {
   "cell_type": "code",
   "execution_count": 35,
   "id": "ce4ed0ad",
   "metadata": {},
   "outputs": [
    {
     "data": {
      "text/html": [
       "<div>\n",
       "<style scoped>\n",
       "    .dataframe tbody tr th:only-of-type {\n",
       "        vertical-align: middle;\n",
       "    }\n",
       "\n",
       "    .dataframe tbody tr th {\n",
       "        vertical-align: top;\n",
       "    }\n",
       "\n",
       "    .dataframe thead th {\n",
       "        text-align: right;\n",
       "    }\n",
       "</style>\n",
       "<table border=\"1\" class=\"dataframe\">\n",
       "  <thead>\n",
       "    <tr style=\"text-align: right;\">\n",
       "      <th></th>\n",
       "      <th>COUPLE</th>\n",
       "      <th>CS1</th>\n",
       "      <th>DIPL</th>\n",
       "      <th>ETUD</th>\n",
       "      <th>GARL</th>\n",
       "      <th>ILETUD</th>\n",
       "      <th>ILT</th>\n",
       "      <th>IMMI</th>\n",
       "      <th>INAI</th>\n",
       "      <th>MOCO</th>\n",
       "      <th>...</th>\n",
       "      <th>SEXE</th>\n",
       "      <th>STAT_CONJ</th>\n",
       "      <th>STATR</th>\n",
       "      <th>STOCD</th>\n",
       "      <th>SURF</th>\n",
       "      <th>TACT</th>\n",
       "      <th>TP</th>\n",
       "      <th>TRANS</th>\n",
       "      <th>TYPL</th>\n",
       "      <th>VOIT</th>\n",
       "    </tr>\n",
       "  </thead>\n",
       "  <tbody>\n",
       "    <tr>\n",
       "      <th>0</th>\n",
       "      <td>2</td>\n",
       "      <td>7</td>\n",
       "      <td>19</td>\n",
       "      <td>2</td>\n",
       "      <td>1</td>\n",
       "      <td>Z</td>\n",
       "      <td>Z</td>\n",
       "      <td>2</td>\n",
       "      <td>3</td>\n",
       "      <td>32</td>\n",
       "      <td>...</td>\n",
       "      <td>2</td>\n",
       "      <td>6</td>\n",
       "      <td>Z</td>\n",
       "      <td>10</td>\n",
       "      <td>4</td>\n",
       "      <td>21</td>\n",
       "      <td>Z</td>\n",
       "      <td>Z</td>\n",
       "      <td>1</td>\n",
       "      <td>0.333333</td>\n",
       "    </tr>\n",
       "    <tr>\n",
       "      <th>1</th>\n",
       "      <td>2</td>\n",
       "      <td>7</td>\n",
       "      <td>19</td>\n",
       "      <td>2</td>\n",
       "      <td>1</td>\n",
       "      <td>Z</td>\n",
       "      <td>Z</td>\n",
       "      <td>2</td>\n",
       "      <td>3</td>\n",
       "      <td>32</td>\n",
       "      <td>...</td>\n",
       "      <td>2</td>\n",
       "      <td>6</td>\n",
       "      <td>Z</td>\n",
       "      <td>10</td>\n",
       "      <td>4</td>\n",
       "      <td>21</td>\n",
       "      <td>Z</td>\n",
       "      <td>Z</td>\n",
       "      <td>1</td>\n",
       "      <td>0.333333</td>\n",
       "    </tr>\n",
       "    <tr>\n",
       "      <th>2</th>\n",
       "      <td>2</td>\n",
       "      <td>7</td>\n",
       "      <td>19</td>\n",
       "      <td>2</td>\n",
       "      <td>1</td>\n",
       "      <td>Z</td>\n",
       "      <td>Z</td>\n",
       "      <td>2</td>\n",
       "      <td>3</td>\n",
       "      <td>32</td>\n",
       "      <td>...</td>\n",
       "      <td>2</td>\n",
       "      <td>6</td>\n",
       "      <td>Z</td>\n",
       "      <td>10</td>\n",
       "      <td>4</td>\n",
       "      <td>21</td>\n",
       "      <td>Z</td>\n",
       "      <td>Z</td>\n",
       "      <td>1</td>\n",
       "      <td>0.333333</td>\n",
       "    </tr>\n",
       "    <tr>\n",
       "      <th>3</th>\n",
       "      <td>1</td>\n",
       "      <td>3</td>\n",
       "      <td>17</td>\n",
       "      <td>2</td>\n",
       "      <td>2</td>\n",
       "      <td>Z</td>\n",
       "      <td>1</td>\n",
       "      <td>1</td>\n",
       "      <td>6</td>\n",
       "      <td>21</td>\n",
       "      <td>...</td>\n",
       "      <td>1</td>\n",
       "      <td>3</td>\n",
       "      <td>2</td>\n",
       "      <td>21</td>\n",
       "      <td>1</td>\n",
       "      <td>11</td>\n",
       "      <td>1</td>\n",
       "      <td>5</td>\n",
       "      <td>6</td>\n",
       "      <td>0.000000</td>\n",
       "    </tr>\n",
       "    <tr>\n",
       "      <th>4</th>\n",
       "      <td>1</td>\n",
       "      <td>3</td>\n",
       "      <td>17</td>\n",
       "      <td>2</td>\n",
       "      <td>2</td>\n",
       "      <td>Z</td>\n",
       "      <td>1</td>\n",
       "      <td>1</td>\n",
       "      <td>6</td>\n",
       "      <td>21</td>\n",
       "      <td>...</td>\n",
       "      <td>1</td>\n",
       "      <td>3</td>\n",
       "      <td>2</td>\n",
       "      <td>21</td>\n",
       "      <td>1</td>\n",
       "      <td>11</td>\n",
       "      <td>1</td>\n",
       "      <td>5</td>\n",
       "      <td>6</td>\n",
       "      <td>0.000000</td>\n",
       "    </tr>\n",
       "  </tbody>\n",
       "</table>\n",
       "<p>5 rows × 25 columns</p>\n",
       "</div>"
      ],
      "text/plain": [
       "  COUPLE CS1 DIPL ETUD GARL ILETUD ILT IMMI INAI MOCO  ... SEXE STAT_CONJ  \\\n",
       "0      2   7   19    2    1      Z   Z    2    3   32  ...    2         6   \n",
       "1      2   7   19    2    1      Z   Z    2    3   32  ...    2         6   \n",
       "2      2   7   19    2    1      Z   Z    2    3   32  ...    2         6   \n",
       "3      1   3   17    2    2      Z   1    1    6   21  ...    1         3   \n",
       "4      1   3   17    2    2      Z   1    1    6   21  ...    1         3   \n",
       "\n",
       "   STATR  STOCD  SURF TACT TP TRANS TYPL      VOIT  \n",
       "0      Z     10     4   21  Z     Z    1  0.333333  \n",
       "1      Z     10     4   21  Z     Z    1  0.333333  \n",
       "2      Z     10     4   21  Z     Z    1  0.333333  \n",
       "3      2     21     1   11  1     5    6  0.000000  \n",
       "4      2     21     1   11  1     5    6  0.000000  \n",
       "\n",
       "[5 rows x 25 columns]"
      ]
     },
     "execution_count": 35,
     "metadata": {},
     "output_type": "execute_result"
    }
   ],
   "source": [
    "census4cluster_scaled.head()"
   ]
  },
  {
   "cell_type": "code",
   "execution_count": 6,
   "id": "b1142615",
   "metadata": {
    "scrolled": true
   },
   "outputs": [
    {
     "name": "stderr",
     "output_type": "stream",
     "text": [
      "/var/folders/93/smcvnv_s04v84f_dnqvd4xkw0000gn/T/ipykernel_19392/2987812319.py:2: DtypeWarning: Columns (5,19,20,24) have mixed types. Specify dtype option on import or set low_memory=False.\n",
      "  census4cluster_scaled = pd.read_csv('data/interim/census4cluster_scaled.csv')\n"
     ]
    },
    {
     "data": {
      "text/html": [
       "<div>\n",
       "<style scoped>\n",
       "    .dataframe tbody tr th:only-of-type {\n",
       "        vertical-align: middle;\n",
       "    }\n",
       "\n",
       "    .dataframe tbody tr th {\n",
       "        vertical-align: top;\n",
       "    }\n",
       "\n",
       "    .dataframe thead th {\n",
       "        text-align: right;\n",
       "    }\n",
       "</style>\n",
       "<table border=\"1\" class=\"dataframe\">\n",
       "  <thead>\n",
       "    <tr style=\"text-align: right;\">\n",
       "      <th></th>\n",
       "      <th>COUPLE</th>\n",
       "      <th>CS1</th>\n",
       "      <th>DIPL</th>\n",
       "      <th>ETUD</th>\n",
       "      <th>GARL</th>\n",
       "      <th>ILETUD</th>\n",
       "      <th>ILT</th>\n",
       "      <th>IMMI</th>\n",
       "      <th>INAI</th>\n",
       "      <th>MOCO</th>\n",
       "      <th>...</th>\n",
       "      <th>SEXE</th>\n",
       "      <th>STAT_CONJ</th>\n",
       "      <th>STATR</th>\n",
       "      <th>STOCD</th>\n",
       "      <th>SURF</th>\n",
       "      <th>TACT</th>\n",
       "      <th>TP</th>\n",
       "      <th>TRANS</th>\n",
       "      <th>TYPL</th>\n",
       "      <th>VOIT</th>\n",
       "    </tr>\n",
       "  </thead>\n",
       "  <tbody>\n",
       "    <tr>\n",
       "      <th>0</th>\n",
       "      <td>2</td>\n",
       "      <td>7</td>\n",
       "      <td>19</td>\n",
       "      <td>2</td>\n",
       "      <td>1</td>\n",
       "      <td>Z</td>\n",
       "      <td>Z</td>\n",
       "      <td>2</td>\n",
       "      <td>3</td>\n",
       "      <td>32</td>\n",
       "      <td>...</td>\n",
       "      <td>2</td>\n",
       "      <td>6</td>\n",
       "      <td>Z</td>\n",
       "      <td>10</td>\n",
       "      <td>4</td>\n",
       "      <td>21</td>\n",
       "      <td>Z</td>\n",
       "      <td>Z</td>\n",
       "      <td>1</td>\n",
       "      <td>0.333333</td>\n",
       "    </tr>\n",
       "    <tr>\n",
       "      <th>1</th>\n",
       "      <td>2</td>\n",
       "      <td>7</td>\n",
       "      <td>19</td>\n",
       "      <td>2</td>\n",
       "      <td>1</td>\n",
       "      <td>Z</td>\n",
       "      <td>Z</td>\n",
       "      <td>2</td>\n",
       "      <td>3</td>\n",
       "      <td>32</td>\n",
       "      <td>...</td>\n",
       "      <td>2</td>\n",
       "      <td>6</td>\n",
       "      <td>Z</td>\n",
       "      <td>10</td>\n",
       "      <td>4</td>\n",
       "      <td>21</td>\n",
       "      <td>Z</td>\n",
       "      <td>Z</td>\n",
       "      <td>1</td>\n",
       "      <td>0.333333</td>\n",
       "    </tr>\n",
       "    <tr>\n",
       "      <th>2</th>\n",
       "      <td>2</td>\n",
       "      <td>7</td>\n",
       "      <td>19</td>\n",
       "      <td>2</td>\n",
       "      <td>1</td>\n",
       "      <td>Z</td>\n",
       "      <td>Z</td>\n",
       "      <td>2</td>\n",
       "      <td>3</td>\n",
       "      <td>32</td>\n",
       "      <td>...</td>\n",
       "      <td>2</td>\n",
       "      <td>6</td>\n",
       "      <td>Z</td>\n",
       "      <td>10</td>\n",
       "      <td>4</td>\n",
       "      <td>21</td>\n",
       "      <td>Z</td>\n",
       "      <td>Z</td>\n",
       "      <td>1</td>\n",
       "      <td>0.333333</td>\n",
       "    </tr>\n",
       "    <tr>\n",
       "      <th>3</th>\n",
       "      <td>1</td>\n",
       "      <td>3</td>\n",
       "      <td>17</td>\n",
       "      <td>2</td>\n",
       "      <td>2</td>\n",
       "      <td>Z</td>\n",
       "      <td>1</td>\n",
       "      <td>1</td>\n",
       "      <td>6</td>\n",
       "      <td>21</td>\n",
       "      <td>...</td>\n",
       "      <td>1</td>\n",
       "      <td>3</td>\n",
       "      <td>2</td>\n",
       "      <td>21</td>\n",
       "      <td>1</td>\n",
       "      <td>11</td>\n",
       "      <td>1</td>\n",
       "      <td>5</td>\n",
       "      <td>6</td>\n",
       "      <td>0.000000</td>\n",
       "    </tr>\n",
       "    <tr>\n",
       "      <th>4</th>\n",
       "      <td>1</td>\n",
       "      <td>3</td>\n",
       "      <td>17</td>\n",
       "      <td>2</td>\n",
       "      <td>2</td>\n",
       "      <td>Z</td>\n",
       "      <td>1</td>\n",
       "      <td>1</td>\n",
       "      <td>6</td>\n",
       "      <td>21</td>\n",
       "      <td>...</td>\n",
       "      <td>1</td>\n",
       "      <td>3</td>\n",
       "      <td>2</td>\n",
       "      <td>21</td>\n",
       "      <td>1</td>\n",
       "      <td>11</td>\n",
       "      <td>1</td>\n",
       "      <td>5</td>\n",
       "      <td>6</td>\n",
       "      <td>0.000000</td>\n",
       "    </tr>\n",
       "  </tbody>\n",
       "</table>\n",
       "<p>5 rows × 25 columns</p>\n",
       "</div>"
      ],
      "text/plain": [
       "   COUPLE  CS1 DIPL  ETUD GARL ILETUD ILT  IMMI  INAI  MOCO  ...  SEXE  \\\n",
       "0       2    7   19     2    1      Z   Z     2     3    32  ...     2   \n",
       "1       2    7   19     2    1      Z   Z     2     3    32  ...     2   \n",
       "2       2    7   19     2    1      Z   Z     2     3    32  ...     2   \n",
       "3       1    3   17     2    2      Z   1     1     6    21  ...     1   \n",
       "4       1    3   17     2    2      Z   1     1     6    21  ...     1   \n",
       "\n",
       "  STAT_CONJ  STATR  STOCD  SURF  TACT  TP TRANS TYPL      VOIT  \n",
       "0         6      Z     10     4    21   Z     Z    1  0.333333  \n",
       "1         6      Z     10     4    21   Z     Z    1  0.333333  \n",
       "2         6      Z     10     4    21   Z     Z    1  0.333333  \n",
       "3         3      2     21     1    11   1     5    6  0.000000  \n",
       "4         3      2     21     1    11   1     5    6  0.000000  \n",
       "\n",
       "[5 rows x 25 columns]"
      ]
     },
     "execution_count": 6,
     "metadata": {},
     "output_type": "execute_result"
    }
   ],
   "source": [
    "#Read file (if interrupted)\n",
    "census4cluster_scaled = pd.read_csv('data/interim/census4cluster_scaled.csv')\n",
    "census4cluster_scaled = census4cluster_scaled.drop(columns=['Unnamed: 0'])\n",
    "census4cluster_scaled.head()"
   ]
  },
  {
   "cell_type": "code",
   "execution_count": 7,
   "id": "e91e395e",
   "metadata": {},
   "outputs": [],
   "source": [
    "# 5% sample of overall population\n",
    "five_per = int((len(census4cluster_scaled)/2000))"
   ]
  },
  {
   "cell_type": "code",
   "execution_count": 9,
   "id": "c4af5ba4",
   "metadata": {},
   "outputs": [],
   "source": [
    "# #create sample for efficiency\n",
    "census4cluster_scaled_five_per = census4cluster_scaled.sample(n=five_per)"
   ]
  },
  {
   "cell_type": "code",
   "execution_count": 10,
   "id": "f11e2508",
   "metadata": {},
   "outputs": [],
   "source": [
    "# define input dataframe\n",
    "df = census4cluster_scaled_five_per\n",
    "# specify ordered categorical values\n",
    "cat_cols_ord = ['SURF']\n",
    "# specify unordered categorical values\n",
    "cat_cols_unord = ['COUPLE','CS1','DIPL','ETUD','GARL','ILETUD','ILT','IMMI','INAI','MOCO',\n",
    "                'MODV','NA17','SEXE','STAT_CONJ','STATR','STOCD','TACT','TP','TRANS','TYPL']\n",
    "for cat in cat_cols_ord:\n",
    "    df[cat] = df[cat].astype(str)\n",
    "    categories = sorted(df[cat].unique())\n",
    "    df[cat] = pd.Categorical(df[cat], categories=categories, ordered=True)\n",
    "for cat in cat_cols_unord:\n",
    "    df[cat] = df[cat].astype(str)\n",
    "    categories = sorted(df[cat].unique())\n",
    "    df[cat] = pd.Categorical(df[cat], categories=categories, ordered=True)\n",
    "\n",
    "# redefine datafram\n",
    "census4cluster_scaled_five_per = df"
   ]
  },
  {
   "cell_type": "markdown",
   "id": "a455e445",
   "metadata": {},
   "source": [
    "## Started 28 March, 10 PM"
   ]
  },
  {
   "cell_type": "code",
   "execution_count": 11,
   "id": "8c69c2ba",
   "metadata": {},
   "outputs": [],
   "source": [
    "#define number of clusters\n",
    "k = 16\n",
    "\n",
    "kproto = KPrototypes(n_clusters=k, init='Cao', verbose=1)\n",
    "clusters = kproto.fit_predict(census4cluster_scaled_five_per,categorical=[0,1,2,3,4,5,6,7,8,9,10,11,15,16,17,18,19,20,21,22,23])"
   ]
  },
  {
   "cell_type": "code",
   "execution_count": 34,
   "id": "da28e7f7",
   "metadata": {},
   "outputs": [],
   "source": [
    "# Add cluster IDs to initial file\n",
    "# census4cluster_scaled['cluster'] = clusters"
   ]
  },
  {
   "cell_type": "code",
   "execution_count": 17,
   "id": "c0e20a41",
   "metadata": {},
   "outputs": [],
   "source": [
    "import pickle\n",
    "\n",
    "# save the kproto object to a file\n",
    "with open('kproto.pkl', 'wb') as f:\n",
    "    pickle.dump(kproto, f)"
   ]
  },
  {
   "cell_type": "code",
   "execution_count": 21,
   "id": "9ef473cd",
   "metadata": {},
   "outputs": [],
   "source": [
    "# # load the saved kproto object from a file\n",
    "# with open('kproto.pkl', 'rb') as f:\n",
    "#     kproto = pickle.load(f)"
   ]
  },
  {
   "cell_type": "code",
   "execution_count": 27,
   "id": "463c8341",
   "metadata": {},
   "outputs": [],
   "source": [
    "# use existing kproto object to predict clusters for new data\n",
    "clusters_full = kproto.predict(census4cluster_scaled, categorical=[0,1,2,3,4,5,6,7,8,9,10,11,15,16,17,18,19,20,21,22,23])"
   ]
  }
 ],
 "metadata": {
  "kernelspec": {
   "display_name": "Python 3 (ipykernel)",
   "language": "python",
   "name": "python3"
  },
  "language_info": {
   "codemirror_mode": {
    "name": "ipython",
    "version": 3
   },
   "file_extension": ".py",
   "mimetype": "text/x-python",
   "name": "python",
   "nbconvert_exporter": "python",
   "pygments_lexer": "ipython3",
   "version": "3.9.13"
  }
 },
 "nbformat": 4,
 "nbformat_minor": 5
}
