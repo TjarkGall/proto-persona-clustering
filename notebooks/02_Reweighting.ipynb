{
 "cells": [
  {
   "cell_type": "markdown",
   "id": "edb377fb",
   "metadata": {},
   "source": [
    "# Proto-persona reweighting for synthetic population"
   ]
  },
  {
   "cell_type": "markdown",
   "id": "9c56edd5",
   "metadata": {},
   "source": [
    "This notebook uses the outputs of notebook 01_clustering or 02_prediction to reweigh the population for different future uncertainty parameters defined in an input file.\n",
    "\n",
    "You need a solver that permits multiobjective optimisation algorithms. We are using IBM's CPLEX which is a commercial solution but freely available for research and academic purposes."
   ]
  },
  {
   "cell_type": "code",
   "execution_count": 143,
   "id": "72adc211",
   "metadata": {
    "scrolled": true
   },
   "outputs": [],
   "source": [
    "# Load packages (if you get errors, you can install them, for example, by using typing:\n",
    "# conda install [package name] \n",
    "# pip install [package name] \n",
    "# in the terminal. \n",
    "\n",
    "import os\n",
    "import pandas as pd\n",
    "import numpy as np\n",
    "import pyomo.environ as pyo\n",
    "from pyomo.opt import SolverFactory\n",
    "import matplotlib.pyplot as plt"
   ]
  },
  {
   "cell_type": "code",
   "execution_count": 144,
   "id": "acb32067",
   "metadata": {},
   "outputs": [
    {
     "data": {
      "text/plain": [
       "'/Users/tjark/Documents/Python'"
      ]
     },
     "execution_count": 144,
     "metadata": {},
     "output_type": "execute_result"
    }
   ],
   "source": [
    "# Move working directory one level up to be in overall folder\n",
    "# ATTENTION: If this is run more than once, it always moves on level up\n",
    "os.chdir(\"..\")\n",
    "\n",
    "# Print working directory. It should be the folder in which there is the data folder\n",
    "os.getcwd()"
   ]
  },
  {
   "cell_type": "markdown",
   "id": "8746f0bf",
   "metadata": {},
   "source": [
    "# Step 9: Resdistribute proto-personas by scenario"
   ]
  },
  {
   "cell_type": "markdown",
   "id": "61b45a92",
   "metadata": {},
   "source": [
    "#### Load data"
   ]
  },
  {
   "cell_type": "code",
   "execution_count": 164,
   "id": "0d45a0c8",
   "metadata": {},
   "outputs": [],
   "source": [
    "df_personas = pd.read_excel(\"data/raw/uncertainties_input.xlsx\", sheet_name = \"Current\")\n",
    "\n",
    "persona_ids = df_personas[\"Persona\"].values\n",
    "initial_weights = df_personas[\"Weight\"].values\n",
    "\n",
    "attributes = [c for c in df_personas.columns if c not in (\"Persona\", \"Weight\")]\n",
    "\n",
    "persona_attributes = {\n",
    "    c: df_personas[c].values\n",
    "    for c in attributes\n",
    "}"
   ]
  },
  {
   "cell_type": "code",
   "execution_count": 165,
   "id": "c02d960e",
   "metadata": {},
   "outputs": [],
   "source": [
    "df_target = pd.read_excel(\"data/raw/uncertainties_input.xlsx\", sheet_name = \"Target\")\n",
    "\n",
    "attribute_targets = {}\n",
    "\n",
    "scenarios = [\n",
    "    c for c in df_target if not c in (\"Attribute\", \"Value\", \"Base\")\n",
    "]\n",
    "\n",
    "for attribute in attributes:\n",
    "    df_attribute = df_target[df_target[\"Attribute\"] == attribute]\n",
    "    assert len(df_attribute) > 0\n",
    "    \n",
    "    if len(df_attribute) == 1 and df_attribute[\"Value\"].values[0] == \"Mean\":\n",
    "        attribute_targets[attribute] = {\n",
    "            \"type\": \"mean\",\n",
    "            \"base\": df_attribute[\"Base\"].values[0],\n",
    "            \"target\": {\n",
    "                scenario: df_attribute[scenario].values[0] for scenario in scenarios\n",
    "            }\n",
    "        }\n",
    "        \n",
    "    else:\n",
    "        attribute_targets[attribute] = {\n",
    "            \"type\": \"share\",\n",
    "            \"values\": df_attribute[\"Value\"].values,\n",
    "            \"base\": df_attribute[\"Base\"].values,\n",
    "            \"target\": {\n",
    "                scenario: df_attribute[scenario].values for scenario in scenarios\n",
    "            }\n",
    "        }"
   ]
  },
  {
   "cell_type": "code",
   "execution_count": 166,
   "id": "ed57f455",
   "metadata": {},
   "outputs": [],
   "source": [
    "df_attribute_weights = pd.read_excel(\"data/raw/uncertainties_input.xlsx\", sheet_name = \"Weights\")\n",
    "\n",
    "attribute_weights = {\n",
    "    attribute: weight\n",
    "    for attribute, weight in zip(df_attribute_weights[\"Attribute\"], df_attribute_weights[\"Weight\"])\n",
    "}"
   ]
  },
  {
   "cell_type": "markdown",
   "id": "7d54445c",
   "metadata": {},
   "source": [
    "#### Reweighting"
   ]
  },
  {
   "cell_type": "code",
   "execution_count": 167,
   "id": "00ae919c",
   "metadata": {},
   "outputs": [],
   "source": [
    "assert np.sum(initial_weights) == 1.0\n",
    "assert np.all(initial_weights > 0.0)"
   ]
  },
  {
   "cell_type": "code",
   "execution_count": 168,
   "id": "c3a94fc3",
   "metadata": {},
   "outputs": [],
   "source": [
    "models = { scenario: pyo.ConcreteModel() for scenario in scenarios }\n",
    "persona_count = len(persona_ids)\n",
    "\n",
    "# Initialize weights\n",
    "for scenario in scenarios:\n",
    "    models[scenario].w = pyo.Var(list(range(persona_count)), \n",
    "        domain = pyo.NonNegativeReals, \n",
    "        initialize = initial_weights)"
   ]
  },
  {
   "cell_type": "code",
   "execution_count": 170,
   "id": "056e5b23",
   "metadata": {},
   "outputs": [
    {
     "name": "stdout",
     "output_type": "stream",
     "text": [
      "WARNING: Implicitly replacing the Component attribute sum_constraint\n",
      "(type=<class 'pyomo.core.base.constraint.ScalarConstraint'>) on block unknown\n",
      "with a new Component (type=<class\n",
      "'pyomo.core.base.constraint.AbstractScalarConstraint'>). This is usually\n",
      "indicative of a modelling error. To avoid this warning, use\n",
      "block.del_component() and block.add_component().\n",
      "WARNING: Implicitly replacing the Component attribute sum_constraint\n",
      "(type=<class 'pyomo.core.base.constraint.ScalarConstraint'>) on block unknown\n",
      "with a new Component (type=<class\n",
      "'pyomo.core.base.constraint.AbstractScalarConstraint'>). This is usually\n",
      "indicative of a modelling error. To avoid this warning, use\n",
      "block.del_component() and block.add_component().\n",
      "WARNING: Implicitly replacing the Component attribute sum_constraint\n",
      "(type=<class 'pyomo.core.base.constraint.ScalarConstraint'>) on block unknown\n",
      "with a new Component (type=<class\n",
      "'pyomo.core.base.constraint.AbstractScalarConstraint'>). This is usually\n",
      "indicative of a modelling error. To avoid this warning, use\n",
      "block.del_component() and block.add_component().\n",
      "WARNING: Implicitly replacing the Component attribute sum_constraint\n",
      "(type=<class 'pyomo.core.base.constraint.ScalarConstraint'>) on block unknown\n",
      "with a new Component (type=<class\n",
      "'pyomo.core.base.constraint.AbstractScalarConstraint'>). This is usually\n",
      "indicative of a modelling error. To avoid this warning, use\n",
      "block.del_component() and block.add_component().\n"
     ]
    }
   ],
   "source": [
    "# Weights must sum to one\n",
    "def sum_constraint(model):\n",
    "    return sum([model.w[k] for k in range(persona_count)]) == 1.0\n",
    "\n",
    "for scenario in scenarios:\n",
    "    models[scenario].sum_constraint = pyo.Constraint(rule = sum_constraint)"
   ]
  },
  {
   "cell_type": "code",
   "execution_count": 172,
   "id": "54cf4e49",
   "metadata": {},
   "outputs": [
    {
     "name": "stdout",
     "output_type": "stream",
     "text": [
      "Using regularisation\n",
      "Using regularisation\n",
      "Using regularisation\n",
      "Using regularisation\n"
     ]
    }
   ],
   "source": [
    "# Define expressions for objective\n",
    "for scenario in scenarios:\n",
    "    expressions = []\n",
    "    \n",
    "    for attribute in attributes:\n",
    "        # Mean attributes\n",
    "        if attribute_targets[attribute][\"type\"] == \"mean\":\n",
    "            target = attribute_targets[attribute][\"target\"][scenario]\n",
    "\n",
    "            mean = sum([\n",
    "                persona_attributes[attribute][k] * models[scenario].w[k]\n",
    "                for k in range(persona_count)\n",
    "            ])\n",
    "\n",
    "            difference = mean - target\n",
    "            expressions.append(attribute_weights[attribute] * difference**2)\n",
    "\n",
    "        # Distributional attributes\n",
    "        else:\n",
    "            for value, target in zip(attribute_targets[attribute][\"values\"], attribute_targets[attribute][\"target\"][scenario]):\n",
    "                indices = np.where(persona_attributes[attribute] == value)[0]\n",
    "                \n",
    "                total = sum([\n",
    "                    models[scenario].w[k] for k in indices\n",
    "                ])\n",
    "\n",
    "                difference = total - target\n",
    "                expressions.append(attribute_weights[attribute] * difference**2)\n",
    "    \n",
    "    # Regularisation\n",
    "    if \"Regularisation\" in attribute_weights:\n",
    "        print(\"Using regularisation\")\n",
    "        expressions.append(attribute_weights[\"Regularisation\"] * sum([\n",
    "            (initial_weights[k] - models[scenario].w[k])**2 for k in range(persona_count)\n",
    "        ]))\n",
    "    \n",
    "    models[scenario].objective = pyo.Objective(expr = sum(expressions), sense = pyo.minimize)"
   ]
  },
  {
   "cell_type": "code",
   "execution_count": 173,
   "id": "a783f266",
   "metadata": {},
   "outputs": [
    {
     "name": "stdout",
     "output_type": "stream",
     "text": [
      "Solver status: ok\n",
      "Termination condition: optimal\n"
     ]
    }
   ],
   "source": [
    "# Solve using CPLEX\n",
    "optimizer = pyo.SolverFactory(\"cplex\", executable = \"/Applications/CPLEX_Studio2211/cplex/bin/x86-64_osx/cplex\")\n",
    "\n",
    "df_weights = df_personas[[\"Persona\"]].copy()\n",
    "df_attributes = []\n",
    "\n",
    "for scenario in scenarios:\n",
    "    solution = optimizer.solve(models[scenario])\n",
    "    \n",
    "    assert solution.solver.status == \"ok\"\n",
    "    assert solution.solver.termination_condition == \"optimal\"\n",
    "    \n",
    "    weights = np.array([\n",
    "       models[scenario].w[k].value for k in range(persona_count)\n",
    "    ])\n",
    "    \n",
    "    df_weights[scenario] = weights\n",
    "    \n",
    "    for attribute in attributes:\n",
    "        if attribute_targets[attribute][\"type\"] == \"mean\":\n",
    "            df_attributes.append({\n",
    "                \"Scenario\": scenario,\n",
    "                \"Attribute\": attribute,\n",
    "                \"Value\": \"Mean\",\n",
    "                \"Initial\": np.sum(persona_attributes[attribute] * initial_weights),\n",
    "                \"Target\": attribute_targets[attribute][\"target\"][scenario],\n",
    "                \"Result\": np.sum(persona_attributes[attribute] * weights)                \n",
    "            })\n",
    "            \n",
    "        else:\n",
    "            for kv, value in enumerate(attribute_targets[attribute][\"values\"]):\n",
    "                f = persona_attributes[attribute] == value\n",
    "                \n",
    "                df_attributes.append({\n",
    "                    \"Scenario\": scenario,\n",
    "                    \"Attribute\": attribute,\n",
    "                    \"Value\": value,\n",
    "                    \"Initial\": np.sum(initial_weights[f]),\n",
    "                    \"Target\": attribute_targets[attribute][\"target\"][scenario][kv],\n",
    "                    \"Result\": np.sum(weights[f])                \n",
    "                })\n",
    "\n",
    "# Access the solution status and other information\n",
    "print(\"Solver status:\", solution.solver.status)\n",
    "print(\"Termination condition:\", solution.solver.termination_condition)\n",
    "\n",
    "                \n",
    "df_attributes = pd.DataFrame.from_records(df_attributes)\n",
    "\n",
    "with pd.ExcelWriter(\"data/output/weighting_output.xlsx\") as writer:\n",
    "    df_weights.to_excel(writer, sheet_name = \"Weights\", index = False)\n",
    "    df_attributes.to_excel(writer, sheet_name = \"Results\", index = False)    \n"
   ]
  },
  {
   "cell_type": "code",
   "execution_count": 175,
   "id": "31fc77de",
   "metadata": {},
   "outputs": [
    {
     "data": {
      "image/png": "[encoded data removed]",
      "text/plain": [
       "<Figure size 1440x480 with 1 Axes>"
      ]
     },
     "metadata": {
      "needs_background": "light"
     },
     "output_type": "display_data"
    }
   ],
   "source": [
    "plt.figure(dpi = 120, figsize = (12, 4))\n",
    "\n",
    "persona_width = 0.7\n",
    "bar_width = persona_width / (len(scenarios) + 1)\n",
    "\n",
    "offset = -persona_width * 0.5 + bar_width * 0.5\n",
    "plt.bar(np.arange(persona_count) + offset, initial_weights, width = bar_width, label = \"Baseline\")\n",
    "\n",
    "for ks, scenario in enumerate(scenarios):\n",
    "    weights = np.array([\n",
    "       models[scenario].w[k].value for k in range(persona_count)\n",
    "    ])\n",
    "    \n",
    "    offset = bar_width * (ks + 1) - persona_width * 0.5 + bar_width * 0.5\n",
    "    plt.bar(np.arange(persona_count) + offset, weights, label = scenario, width = bar_width)\n",
    "    \n",
    "plt.xlabel(\"Persona\")\n",
    "plt.ylabel(\"Weight\")\n",
    "plt.legend(loc = \"best\")\n",
    "\n",
    "plt.tight_layout()"
   ]
  }
 ],
 "metadata": {
  "kernelspec": {
   "display_name": "Python 3 (ipykernel)",
   "language": "python",
   "name": "python3"
  },
  "language_info": {
   "codemirror_mode": {
    "name": "ipython",
    "version": 3
   },
   "file_extension": ".py",
   "mimetype": "text/x-python",
   "name": "python",
   "nbconvert_exporter": "python",
   "pygments_lexer": "ipython3",
   "version": "3.9.13"
  }
 },
 "nbformat": 4,
 "nbformat_minor": 5
}
