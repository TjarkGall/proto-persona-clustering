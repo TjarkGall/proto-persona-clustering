{
 "cells": [
  {
   "cell_type": "markdown",
   "id": "a0b00e23",
   "metadata": {},
   "source": [
    "# Updated proto-clustering process"
   ]
  },
  {
   "cell_type": "markdown",
   "id": "83e37bb1",
   "metadata": {},
   "source": [
    "1) Transfer preparation from R to python\n",
    "\n",
    "2) Update process with 2019 data\n",
    "\n",
    "3) Normalise numeric variables\n",
    "\n",
    "4) Probabilistic scaling of population by weights\n",
    "\n",
    "5) Perform proto-clustering (possibly with random 10% sample) \n",
    "\n",
    "6) Predict clusters from 2015 data"
   ]
  },
  {
   "cell_type": "code",
   "execution_count": 1,
   "id": "1a615b18",
   "metadata": {},
   "outputs": [],
   "source": [
    "#Load packages\n",
    "import pandas as pd\n",
    "import numpy as np\n",
    "import os\n",
    "import random"
   ]
  },
  {
   "cell_type": "code",
   "execution_count": 2,
   "id": "5dfd17cd",
   "metadata": {},
   "outputs": [
    {
     "data": {
      "text/plain": [
       "'/Users/tjark/Documents/Python/clustering.nosync/cluster process'"
      ]
     },
     "execution_count": 2,
     "metadata": {},
     "output_type": "execute_result"
    }
   ],
   "source": [
    "pwd"
   ]
  },
  {
   "cell_type": "code",
   "execution_count": 3,
   "id": "877001b7",
   "metadata": {},
   "outputs": [],
   "source": [
    "os.chdir(\"..\")"
   ]
  },
  {
   "cell_type": "markdown",
   "id": "3c6f07c1",
   "metadata": {},
   "source": [
    "## Test probabilistic scaling process"
   ]
  },
  {
   "cell_type": "code",
   "execution_count": 140,
   "id": "8453d654",
   "metadata": {},
   "outputs": [],
   "source": [
    "random.seed(1)"
   ]
  },
  {
   "cell_type": "code",
   "execution_count": 154,
   "id": "7d26f1d4",
   "metadata": {},
   "outputs": [],
   "source": [
    "#Set input\n",
    "ppltn = [['a'], ['b'],['c']]\n",
    "wghts = [200.2, 300.2, 434.4]"
   ]
  },
  {
   "cell_type": "code",
   "execution_count": 158,
   "id": "78cf8d49",
   "metadata": {},
   "outputs": [],
   "source": [
    "#ensure same outputs with same random seed\n",
    "firststate = random.getstate()\n",
    "random.setstate(firststate)\n",
    "\n",
    "#Scaling\n",
    "output = random.choices(\n",
    "    population=ppltn,\n",
    "    weights=wghts,\n",
    "    k=round(sum(wghts))\n",
    "    )"
   ]
  },
  {
   "cell_type": "code",
   "execution_count": 156,
   "id": "980f72d4",
   "metadata": {},
   "outputs": [
    {
     "data": {
      "text/plain": [
       "935"
      ]
     },
     "execution_count": 156,
     "metadata": {},
     "output_type": "execute_result"
    }
   ],
   "source": [
    "round(sum(wghts))"
   ]
  },
  {
   "cell_type": "code",
   "execution_count": 160,
   "id": "8b0ccbc8",
   "metadata": {},
   "outputs": [
    {
     "data": {
      "text/plain": [
       "[c]    428\n",
       "[b]    302\n",
       "[a]    205\n",
       "dtype: int64"
      ]
     },
     "execution_count": 160,
     "metadata": {},
     "output_type": "execute_result"
    }
   ],
   "source": [
    "pd.Series(output).value_counts()"
   ]
  },
  {
   "cell_type": "code",
   "execution_count": null,
   "id": "7fdeb269",
   "metadata": {},
   "outputs": [],
   "source": []
  },
  {
   "cell_type": "code",
   "execution_count": 161,
   "id": "6df28df7",
   "metadata": {},
   "outputs": [
    {
     "name": "stdout",
     "output_type": "stream",
     "text": [
      "200 times 'a' with a probability of 0.20\n",
      "300 times 'b' with a probability of 0.20\n",
      "434 times 'c' with a probability of 0.40\n"
     ]
    }
   ],
   "source": [
    "# Create a dictionary to store the counts of each element in ppltn\n",
    "counts = {}\n",
    "for element in ppltn:\n",
    "    key = element[0]\n",
    "    if key in counts:\n",
    "        counts[key] += 1\n",
    "    else:\n",
    "        counts[key] = 1\n",
    "\n",
    "# Scale the counts based on the values in wghts\n",
    "scaled_counts = {}\n",
    "for key in counts:\n",
    "    count = counts[key]\n",
    "    weight = wghts[ppltn.index([key])]\n",
    "    scaled_count = int(count * weight)\n",
    "    decimal = count * weight - scaled_count\n",
    "    scaled_counts[key] = (scaled_count, decimal)\n",
    "\n",
    "# Print the scaled counts with their probabilities\n",
    "for key in scaled_counts:\n",
    "    count, decimal = scaled_counts[key]\n",
    "    print(f\"{count} times '{key}' with a probability of {decimal:.2f}\")\n"
   ]
  },
  {
   "cell_type": "code",
   "execution_count": 162,
   "id": "1e3ebc2a",
   "metadata": {},
   "outputs": [
    {
     "data": {
      "text/plain": [
       "{'a': (200, 0.19999999999998863),\n",
       " 'b': (300, 0.19999999999998863),\n",
       " 'c': (434, 0.39999999999997726)}"
      ]
     },
     "execution_count": 162,
     "metadata": {},
     "output_type": "execute_result"
    }
   ],
   "source": [
    "scaled_counts"
   ]
  },
  {
   "cell_type": "code",
   "execution_count": null,
   "id": "bf895cc7",
   "metadata": {},
   "outputs": [],
   "source": []
  },
  {
   "cell_type": "code",
   "execution_count": null,
   "id": "648837f9",
   "metadata": {},
   "outputs": [],
   "source": []
  },
  {
   "cell_type": "code",
   "execution_count": null,
   "id": "dd1bd9af",
   "metadata": {},
   "outputs": [],
   "source": []
  },
  {
   "cell_type": "code",
   "execution_count": null,
   "id": "50054c56",
   "metadata": {},
   "outputs": [],
   "source": []
  },
  {
   "cell_type": "code",
   "execution_count": null,
   "id": "c45510ec",
   "metadata": {},
   "outputs": [],
   "source": []
  },
  {
   "cell_type": "code",
   "execution_count": null,
   "id": "1475436c",
   "metadata": {},
   "outputs": [],
   "source": []
  },
  {
   "cell_type": "code",
   "execution_count": null,
   "id": "0e7492a2",
   "metadata": {},
   "outputs": [],
   "source": []
  }
 ],
 "metadata": {
  "kernelspec": {
   "display_name": "Python 3 (ipykernel)",
   "language": "python",
   "name": "python3"
  },
  "language_info": {
   "codemirror_mode": {
    "name": "ipython",
    "version": 3
   },
   "file_extension": ".py",
   "mimetype": "text/x-python",
   "name": "python",
   "nbconvert_exporter": "python",
   "pygments_lexer": "ipython3",
   "version": "3.9.13"
  }
 },
 "nbformat": 4,
 "nbformat_minor": 5
}
